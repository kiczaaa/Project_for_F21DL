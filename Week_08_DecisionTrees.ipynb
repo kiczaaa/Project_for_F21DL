{
 "cells": [
  {
   "cell_type": "code",
   "execution_count": 1,
   "id": "9b2251a4",
   "metadata": {},
   "outputs": [],
   "source": [
    "# Import libs\n",
    "import os\n",
    "import numpy as np\n",
    "import pandas as pd\n",
    "import matplotlib as mpl\n",
    "import matplotlib.pyplot as plt\n",
    "import sklearn"
   ]
  },
  {
   "cell_type": "code",
   "execution_count": 2,
   "id": "55ccdcd3",
   "metadata": {},
   "outputs": [],
   "source": [
    "# load dataset\n",
    "X = np.load(r'C:\\Users\\JHL\\F21DL\\smiley_X.npy')\n",
    "y = np.load(r'C:\\Users\\JHL\\F21DL\\smiley_y.npy')"
   ]
  },
  {
   "cell_type": "code",
   "execution_count": 3,
   "id": "701c1574",
   "metadata": {},
   "outputs": [
    {
     "name": "stdout",
     "output_type": "stream",
     "text": [
      "The original shape of X:  (144, 9, 9, 1)\n",
      "The shape of X after reshaping:  (144, 81)\n"
     ]
    }
   ],
   "source": [
    "# reshape X\n",
    "print(\"The original shape of X: \", X.shape)\n",
    "X = X.reshape((X.shape[0], -1))\n",
    "print(\"The shape of X after reshaping: \", X.shape)"
   ]
  },
  {
   "cell_type": "code",
   "execution_count": 4,
   "id": "a534c91a",
   "metadata": {},
   "outputs": [
    {
     "name": "stdout",
     "output_type": "stream",
     "text": [
      "The number of samples in calss 0.0: 72\n",
      "The number of samples in calss 1.0: 72\n"
     ]
    }
   ],
   "source": [
    "# examine the number of samples in each class\n",
    "for label in np.unique(y):\n",
    "    print(f\"The number of samples in calss {label}: {sum(y==label)}\")"
   ]
  },
  {
   "cell_type": "markdown",
   "id": "7932a5cf",
   "metadata": {},
   "source": [
    "## Decision Tree\n",
    "1. Use Decision trees (the J48/C4.5 algorithm) on a training set, measure the accuracy. Then measure the accuracy using 10-fold cross-validataion on the training set. (If you are dealing with an unbalanced dataset, what else should you consider when doing the train/test split?)\n",
    "2. Experiment with various decision tree parameters that control the size of the tree. For example: depth of the tree, confidence threshold for pruning, splitting criteria and the minimal number of instances permissible per leaf.\n",
    "3. Put all your results in a suitable form. (a table or a series of graphs)\n",
    "4. Using the best working parameters, repeat the experiment, this time using training and testing data sets instead of the cross validation. Answer the question: Does the decision tree generalize well to new data? How do you tell?\n",
    "5. Try some other decision tree algorithms (e.g. random forests). Repeat all of the above experiments and make conclusions."
   ]
  },
  {
   "cell_type": "markdown",
   "id": "91642aa8",
   "metadata": {},
   "source": [
    "### 1. Use Decision Tree \n",
    "- Explanation of the choice of classifier: \n",
    "    - The scikit-learn uses an optimized version of the **CART algorithm**, which is very similar to C4.5 but differs in that it supports numerical target variables (regression) and does not compute rule sets. (https://scikit-learn.org/stable/modules/tree.html#tree-algorithms-id3-c4-5-c5-0-and-cart)\n",
    "    - Because we are doing classification, the scikit-learn Decision Tree would be fine\n",
    "- Explanation of the choice of initial parameters:\n",
    "    - It is recommended to set `max_depth=3` and `min_samples_leaf=5` (1.10.5. Tips on practical use)\n",
    "    - But when used `max_depth=3`, accuracy both on the training set and on the test set was 1, so For the analyzing purpose, reduced to `max_depth=2`.\n",
    "- What else should you consider when doing the tran/test split, if using unbalanced dataset?: \n",
    "    - One of the disadvantages of the Decision tree is that it creates biased trees if some classes dominate. \n",
    "    - So, data should be balanceed prior to fitting with the decision tree.\n",
    "    - In case of our dataset, it is balanced (no need pre-processing)"
   ]
  },
  {
   "cell_type": "code",
   "execution_count": 5,
   "id": "ccd0e165",
   "metadata": {},
   "outputs": [
    {
     "name": "stdout",
     "output_type": "stream",
     "text": [
      "(100, 81)\n",
      "(44, 81)\n"
     ]
    }
   ],
   "source": [
    "# train/test set split\n",
    "# test set size: 44, train set size: 100 (for 10-fold cross-validation)\n",
    "from sklearn.model_selection import train_test_split\n",
    "X_train, X_test, y_train, y_test = train_test_split(X, y, test_size=44, random_state=42)\n",
    "print(X_train.shape)\n",
    "print(X_test.shape)"
   ]
  },
  {
   "cell_type": "code",
   "execution_count": 6,
   "id": "58f64215",
   "metadata": {},
   "outputs": [
    {
     "data": {
      "text/html": [
       "<style>#sk-container-id-1 {color: black;background-color: white;}#sk-container-id-1 pre{padding: 0;}#sk-container-id-1 div.sk-toggleable {background-color: white;}#sk-container-id-1 label.sk-toggleable__label {cursor: pointer;display: block;width: 100%;margin-bottom: 0;padding: 0.3em;box-sizing: border-box;text-align: center;}#sk-container-id-1 label.sk-toggleable__label-arrow:before {content: \"▸\";float: left;margin-right: 0.25em;color: #696969;}#sk-container-id-1 label.sk-toggleable__label-arrow:hover:before {color: black;}#sk-container-id-1 div.sk-estimator:hover label.sk-toggleable__label-arrow:before {color: black;}#sk-container-id-1 div.sk-toggleable__content {max-height: 0;max-width: 0;overflow: hidden;text-align: left;background-color: #f0f8ff;}#sk-container-id-1 div.sk-toggleable__content pre {margin: 0.2em;color: black;border-radius: 0.25em;background-color: #f0f8ff;}#sk-container-id-1 input.sk-toggleable__control:checked~div.sk-toggleable__content {max-height: 200px;max-width: 100%;overflow: auto;}#sk-container-id-1 input.sk-toggleable__control:checked~label.sk-toggleable__label-arrow:before {content: \"▾\";}#sk-container-id-1 div.sk-estimator input.sk-toggleable__control:checked~label.sk-toggleable__label {background-color: #d4ebff;}#sk-container-id-1 div.sk-label input.sk-toggleable__control:checked~label.sk-toggleable__label {background-color: #d4ebff;}#sk-container-id-1 input.sk-hidden--visually {border: 0;clip: rect(1px 1px 1px 1px);clip: rect(1px, 1px, 1px, 1px);height: 1px;margin: -1px;overflow: hidden;padding: 0;position: absolute;width: 1px;}#sk-container-id-1 div.sk-estimator {font-family: monospace;background-color: #f0f8ff;border: 1px dotted black;border-radius: 0.25em;box-sizing: border-box;margin-bottom: 0.5em;}#sk-container-id-1 div.sk-estimator:hover {background-color: #d4ebff;}#sk-container-id-1 div.sk-parallel-item::after {content: \"\";width: 100%;border-bottom: 1px solid gray;flex-grow: 1;}#sk-container-id-1 div.sk-label:hover label.sk-toggleable__label {background-color: #d4ebff;}#sk-container-id-1 div.sk-serial::before {content: \"\";position: absolute;border-left: 1px solid gray;box-sizing: border-box;top: 0;bottom: 0;left: 50%;z-index: 0;}#sk-container-id-1 div.sk-serial {display: flex;flex-direction: column;align-items: center;background-color: white;padding-right: 0.2em;padding-left: 0.2em;position: relative;}#sk-container-id-1 div.sk-item {position: relative;z-index: 1;}#sk-container-id-1 div.sk-parallel {display: flex;align-items: stretch;justify-content: center;background-color: white;position: relative;}#sk-container-id-1 div.sk-item::before, #sk-container-id-1 div.sk-parallel-item::before {content: \"\";position: absolute;border-left: 1px solid gray;box-sizing: border-box;top: 0;bottom: 0;left: 50%;z-index: -1;}#sk-container-id-1 div.sk-parallel-item {display: flex;flex-direction: column;z-index: 1;position: relative;background-color: white;}#sk-container-id-1 div.sk-parallel-item:first-child::after {align-self: flex-end;width: 50%;}#sk-container-id-1 div.sk-parallel-item:last-child::after {align-self: flex-start;width: 50%;}#sk-container-id-1 div.sk-parallel-item:only-child::after {width: 0;}#sk-container-id-1 div.sk-dashed-wrapped {border: 1px dashed gray;margin: 0 0.4em 0.5em 0.4em;box-sizing: border-box;padding-bottom: 0.4em;background-color: white;}#sk-container-id-1 div.sk-label label {font-family: monospace;font-weight: bold;display: inline-block;line-height: 1.2em;}#sk-container-id-1 div.sk-label-container {text-align: center;}#sk-container-id-1 div.sk-container {/* jupyter's `normalize.less` sets `[hidden] { display: none; }` but bootstrap.min.css set `[hidden] { display: none !important; }` so we also need the `!important` here to be able to override the default hidden behavior on the sphinx rendered scikit-learn.org. See: https://github.com/scikit-learn/scikit-learn/issues/21755 */display: inline-block !important;position: relative;}#sk-container-id-1 div.sk-text-repr-fallback {display: none;}</style><div id=\"sk-container-id-1\" class=\"sk-top-container\"><div class=\"sk-text-repr-fallback\"><pre>DecisionTreeClassifier(max_depth=2, min_samples_leaf=5)</pre><b>In a Jupyter environment, please rerun this cell to show the HTML representation or trust the notebook. <br />On GitHub, the HTML representation is unable to render, please try loading this page with nbviewer.org.</b></div><div class=\"sk-container\" hidden><div class=\"sk-item\"><div class=\"sk-estimator sk-toggleable\"><input class=\"sk-toggleable__control sk-hidden--visually\" id=\"sk-estimator-id-1\" type=\"checkbox\" checked><label for=\"sk-estimator-id-1\" class=\"sk-toggleable__label sk-toggleable__label-arrow\">DecisionTreeClassifier</label><div class=\"sk-toggleable__content\"><pre>DecisionTreeClassifier(max_depth=2, min_samples_leaf=5)</pre></div></div></div></div></div>"
      ],
      "text/plain": [
       "DecisionTreeClassifier(max_depth=2, min_samples_leaf=5)"
      ]
     },
     "execution_count": 6,
     "metadata": {},
     "output_type": "execute_result"
    }
   ],
   "source": [
    "# fit tree\n",
    "from sklearn.tree import DecisionTreeClassifier,plot_tree\n",
    "initial_tree = DecisionTreeClassifier(max_depth=2, min_samples_leaf=5)\n",
    "initial_tree.fit(X_train, y_train)"
   ]
  },
  {
   "cell_type": "code",
   "execution_count": 7,
   "id": "938c2253",
   "metadata": {},
   "outputs": [
    {
     "data": {
      "text/plain": [
       "[Text(0.6, 0.8333333333333334, 'X[40] <= 0.5\\ngini = 0.499\\nsamples = 100\\nvalue = [48, 52]'),\n",
       " Text(0.4, 0.5, 'X[48] <= 0.5\\ngini = 0.45\\nsamples = 73\\nvalue = [48, 25]'),\n",
       " Text(0.2, 0.16666666666666666, 'gini = 0.0\\nsamples = 39\\nvalue = [39, 0]'),\n",
       " Text(0.6, 0.16666666666666666, 'gini = 0.389\\nsamples = 34\\nvalue = [9, 25]'),\n",
       " Text(0.8, 0.5, 'gini = 0.0\\nsamples = 27\\nvalue = [0, 27]')]"
      ]
     },
     "execution_count": 7,
     "metadata": {},
     "output_type": "execute_result"
    },
    {
     "data": {
      "image/png": "[encoded data removed]",
      "text/plain": [
       "<Figure size 640x480 with 1 Axes>"
      ]
     },
     "metadata": {},
     "output_type": "display_data"
    }
   ],
   "source": [
    "plot_tree(initial_tree)"
   ]
  },
  {
   "cell_type": "code",
   "execution_count": 8,
   "id": "727c2b13",
   "metadata": {},
   "outputs": [
    {
     "name": "stdout",
     "output_type": "stream",
     "text": [
      "Accuracy on training set:  0.91\n",
      "Accuracy on test set    :  0.9318181818181818\n"
     ]
    }
   ],
   "source": [
    "# Accuracy measure\n",
    "pred_train = initial_tree.predict(X_train)\n",
    "pred_test = initial_tree.predict(X_test)\n",
    "print(\"Accuracy on training set: \", sum(pred_train == y_train) / len(pred_train == y_train))\n",
    "print(\"Accuracy on test set    : \", sum(pred_test == y_test) / len(pred_test == y_test))"
   ]
  },
  {
   "cell_type": "code",
   "execution_count": 9,
   "id": "b11697a0",
   "metadata": {
    "scrolled": true
   },
   "outputs": [
    {
     "name": "stdout",
     "output_type": "stream",
     "text": [
      "[0.9 1.  0.9 1.  0.9 0.8 0.9 1.  0.9 0.8]\n"
     ]
    },
    {
     "data": {
      "text/plain": [
       "Text(0, 0.5, 'Cross validation Score')"
      ]
     },
     "execution_count": 9,
     "metadata": {},
     "output_type": "execute_result"
    },
    {
     "data": {
      "image/png": "[encoded data removed]",
      "text/plain": [
       "<Figure size 640x480 with 1 Axes>"
      ]
     },
     "metadata": {},
     "output_type": "display_data"
    }
   ],
   "source": [
    "# Measure the accuracy using 10-fold cross-validation on the training set\n",
    "from sklearn.model_selection import cross_val_score\n",
    "scores = cross_val_score(initial_tree, X_train, y_train, cv=10, scoring=\"accuracy\")\n",
    "print(scores)\n",
    "\n",
    "# plotting scores\n",
    "x = np.linspace(1, 10, 10)\n",
    "plt.plot(x, scores)\n",
    "plt.xlabel(\"n-th fold\")\n",
    "plt.ylabel(\"Cross validation Score\")"
   ]
  },
  {
   "cell_type": "code",
   "execution_count": 10,
   "id": "d63f8e0b",
   "metadata": {},
   "outputs": [
    {
     "data": {
      "text/html": [
       "<div>\n",
       "<style scoped>\n",
       "    .dataframe tbody tr th:only-of-type {\n",
       "        vertical-align: middle;\n",
       "    }\n",
       "\n",
       "    .dataframe tbody tr th {\n",
       "        vertical-align: top;\n",
       "    }\n",
       "\n",
       "    .dataframe thead th {\n",
       "        text-align: right;\n",
       "    }\n",
       "</style>\n",
       "<table border=\"1\" class=\"dataframe\">\n",
       "  <thead>\n",
       "    <tr style=\"text-align: right;\">\n",
       "      <th></th>\n",
       "      <th>Accuracy</th>\n",
       "      <th>TP</th>\n",
       "      <th>FP</th>\n",
       "      <th>TN</th>\n",
       "      <th>FN</th>\n",
       "      <th>Sensitivity</th>\n",
       "      <th>Specificity</th>\n",
       "      <th>Precision</th>\n",
       "      <th>Recall</th>\n",
       "      <th>Area Under RoC Curve</th>\n",
       "    </tr>\n",
       "  </thead>\n",
       "  <tbody>\n",
       "    <tr>\n",
       "      <th>1fold</th>\n",
       "      <td>0.9</td>\n",
       "      <td>5.0</td>\n",
       "      <td>1.0</td>\n",
       "      <td>4.0</td>\n",
       "      <td>0.0</td>\n",
       "      <td>1.0</td>\n",
       "      <td>0.80</td>\n",
       "      <td>0.833333</td>\n",
       "      <td>1.0</td>\n",
       "      <td>0.916667</td>\n",
       "    </tr>\n",
       "    <tr>\n",
       "      <th>2fold</th>\n",
       "      <td>1.0</td>\n",
       "      <td>5.0</td>\n",
       "      <td>0.0</td>\n",
       "      <td>5.0</td>\n",
       "      <td>0.0</td>\n",
       "      <td>1.0</td>\n",
       "      <td>1.00</td>\n",
       "      <td>1.000000</td>\n",
       "      <td>1.0</td>\n",
       "      <td>1.000000</td>\n",
       "    </tr>\n",
       "    <tr>\n",
       "      <th>3fold</th>\n",
       "      <td>0.9</td>\n",
       "      <td>5.0</td>\n",
       "      <td>1.0</td>\n",
       "      <td>4.0</td>\n",
       "      <td>0.0</td>\n",
       "      <td>1.0</td>\n",
       "      <td>0.80</td>\n",
       "      <td>0.833333</td>\n",
       "      <td>1.0</td>\n",
       "      <td>0.916667</td>\n",
       "    </tr>\n",
       "    <tr>\n",
       "      <th>4fold</th>\n",
       "      <td>1.0</td>\n",
       "      <td>5.0</td>\n",
       "      <td>0.0</td>\n",
       "      <td>5.0</td>\n",
       "      <td>0.0</td>\n",
       "      <td>1.0</td>\n",
       "      <td>1.00</td>\n",
       "      <td>1.000000</td>\n",
       "      <td>1.0</td>\n",
       "      <td>1.000000</td>\n",
       "    </tr>\n",
       "    <tr>\n",
       "      <th>5fold</th>\n",
       "      <td>0.9</td>\n",
       "      <td>5.0</td>\n",
       "      <td>1.0</td>\n",
       "      <td>4.0</td>\n",
       "      <td>0.0</td>\n",
       "      <td>1.0</td>\n",
       "      <td>0.80</td>\n",
       "      <td>0.833333</td>\n",
       "      <td>1.0</td>\n",
       "      <td>0.916667</td>\n",
       "    </tr>\n",
       "    <tr>\n",
       "      <th>6fold</th>\n",
       "      <td>0.8</td>\n",
       "      <td>5.0</td>\n",
       "      <td>2.0</td>\n",
       "      <td>3.0</td>\n",
       "      <td>0.0</td>\n",
       "      <td>1.0</td>\n",
       "      <td>0.60</td>\n",
       "      <td>0.714286</td>\n",
       "      <td>1.0</td>\n",
       "      <td>0.857143</td>\n",
       "    </tr>\n",
       "    <tr>\n",
       "      <th>7fold</th>\n",
       "      <td>0.9</td>\n",
       "      <td>5.0</td>\n",
       "      <td>1.0</td>\n",
       "      <td>4.0</td>\n",
       "      <td>0.0</td>\n",
       "      <td>1.0</td>\n",
       "      <td>0.80</td>\n",
       "      <td>0.833333</td>\n",
       "      <td>1.0</td>\n",
       "      <td>0.916667</td>\n",
       "    </tr>\n",
       "    <tr>\n",
       "      <th>8fold</th>\n",
       "      <td>1.0</td>\n",
       "      <td>5.0</td>\n",
       "      <td>0.0</td>\n",
       "      <td>5.0</td>\n",
       "      <td>0.0</td>\n",
       "      <td>1.0</td>\n",
       "      <td>1.00</td>\n",
       "      <td>1.000000</td>\n",
       "      <td>1.0</td>\n",
       "      <td>1.000000</td>\n",
       "    </tr>\n",
       "    <tr>\n",
       "      <th>9fold</th>\n",
       "      <td>0.9</td>\n",
       "      <td>6.0</td>\n",
       "      <td>1.0</td>\n",
       "      <td>3.0</td>\n",
       "      <td>0.0</td>\n",
       "      <td>1.0</td>\n",
       "      <td>0.75</td>\n",
       "      <td>0.857143</td>\n",
       "      <td>1.0</td>\n",
       "      <td>0.928571</td>\n",
       "    </tr>\n",
       "    <tr>\n",
       "      <th>10fold</th>\n",
       "      <td>0.8</td>\n",
       "      <td>6.0</td>\n",
       "      <td>2.0</td>\n",
       "      <td>2.0</td>\n",
       "      <td>0.0</td>\n",
       "      <td>1.0</td>\n",
       "      <td>0.50</td>\n",
       "      <td>0.750000</td>\n",
       "      <td>1.0</td>\n",
       "      <td>0.875000</td>\n",
       "    </tr>\n",
       "  </tbody>\n",
       "</table>\n",
       "</div>"
      ],
      "text/plain": [
       "        Accuracy   TP   FP   TN   FN  Sensitivity  Specificity  Precision  \\\n",
       "1fold        0.9  5.0  1.0  4.0  0.0          1.0         0.80   0.833333   \n",
       "2fold        1.0  5.0  0.0  5.0  0.0          1.0         1.00   1.000000   \n",
       "3fold        0.9  5.0  1.0  4.0  0.0          1.0         0.80   0.833333   \n",
       "4fold        1.0  5.0  0.0  5.0  0.0          1.0         1.00   1.000000   \n",
       "5fold        0.9  5.0  1.0  4.0  0.0          1.0         0.80   0.833333   \n",
       "6fold        0.8  5.0  2.0  3.0  0.0          1.0         0.60   0.714286   \n",
       "7fold        0.9  5.0  1.0  4.0  0.0          1.0         0.80   0.833333   \n",
       "8fold        1.0  5.0  0.0  5.0  0.0          1.0         1.00   1.000000   \n",
       "9fold        0.9  6.0  1.0  3.0  0.0          1.0         0.75   0.857143   \n",
       "10fold       0.8  6.0  2.0  2.0  0.0          1.0         0.50   0.750000   \n",
       "\n",
       "        Recall  Area Under RoC Curve  \n",
       "1fold      1.0              0.916667  \n",
       "2fold      1.0              1.000000  \n",
       "3fold      1.0              0.916667  \n",
       "4fold      1.0              1.000000  \n",
       "5fold      1.0              0.916667  \n",
       "6fold      1.0              0.857143  \n",
       "7fold      1.0              0.916667  \n",
       "8fold      1.0              1.000000  \n",
       "9fold      1.0              0.928571  \n",
       "10fold     1.0              0.875000  "
      ]
     },
     "execution_count": 10,
     "metadata": {},
     "output_type": "execute_result"
    }
   ],
   "source": [
    "# implement 10-fold cross-validation manually and evaluate it using major matics \n",
    "from sklearn.metrics import confusion_matrix, precision_score, recall_score, roc_auc_score\n",
    "\n",
    "# make data from for evaluation \n",
    "columns = ['Accuracy', 'TP', 'FP', 'TN', 'FN', 'Sensitivity', 'Specificity', 'Precision', 'Recall', 'Area Under RoC Curve']\n",
    "tenFold_evaluation = pd.DataFrame(columns = columns)\n",
    "tenFold_evaluation\n",
    "\n",
    "# split data into 10 groups\n",
    "from sklearn.model_selection import StratifiedKFold\n",
    "strtfdKFold = StratifiedKFold(n_splits=10)\n",
    "kfold = strtfdKFold.split(X_train, y_train)\n",
    "\n",
    "for k, (train, test) in enumerate(kfold):\n",
    "    tree = DecisionTreeClassifier(max_depth=2, min_samples_leaf=5)\n",
    "    tree.fit(X_train[train], y_train[train])\n",
    "    pred = tree.predict(X_train[test])\n",
    "    accuracy = sum(pred==y_train[test]) / len(pred)\n",
    "    cm = confusion_matrix(y_train[test], pred)\n",
    "    tp, fp, tn, fn = cm[1,1], cm[0,1], cm[0,0], cm[1,0]\n",
    "    sensitivity = tp / (tp+fn)\n",
    "    specificity = tn / (tn+fp)\n",
    "    precision = precision_score(y_train[test], pred)\n",
    "    recall = recall_score(y_train[test], pred)\n",
    "    auc = roc_auc_score(pred, y_train[test])\n",
    "    \n",
    "    index = str(k+1) + \"fold\"\n",
    "    tenFold_evaluation.loc[index] = [accuracy, tp, fp, tn, fn, sensitivity, specificity, precision, recall, auc]\n",
    "\n",
    "tenFold_evaluation"
   ]
  },
  {
   "cell_type": "markdown",
   "id": "9671d774",
   "metadata": {},
   "source": [
    "### 2. Experiment with parameters"
   ]
  },
  {
   "cell_type": "code",
   "execution_count": 11,
   "id": "51024463",
   "metadata": {},
   "outputs": [
    {
     "data": {
      "text/html": [
       "<style>#sk-container-id-2 {color: black;background-color: white;}#sk-container-id-2 pre{padding: 0;}#sk-container-id-2 div.sk-toggleable {background-color: white;}#sk-container-id-2 label.sk-toggleable__label {cursor: pointer;display: block;width: 100%;margin-bottom: 0;padding: 0.3em;box-sizing: border-box;text-align: center;}#sk-container-id-2 label.sk-toggleable__label-arrow:before {content: \"▸\";float: left;margin-right: 0.25em;color: #696969;}#sk-container-id-2 label.sk-toggleable__label-arrow:hover:before {color: black;}#sk-container-id-2 div.sk-estimator:hover label.sk-toggleable__label-arrow:before {color: black;}#sk-container-id-2 div.sk-toggleable__content {max-height: 0;max-width: 0;overflow: hidden;text-align: left;background-color: #f0f8ff;}#sk-container-id-2 div.sk-toggleable__content pre {margin: 0.2em;color: black;border-radius: 0.25em;background-color: #f0f8ff;}#sk-container-id-2 input.sk-toggleable__control:checked~div.sk-toggleable__content {max-height: 200px;max-width: 100%;overflow: auto;}#sk-container-id-2 input.sk-toggleable__control:checked~label.sk-toggleable__label-arrow:before {content: \"▾\";}#sk-container-id-2 div.sk-estimator input.sk-toggleable__control:checked~label.sk-toggleable__label {background-color: #d4ebff;}#sk-container-id-2 div.sk-label input.sk-toggleable__control:checked~label.sk-toggleable__label {background-color: #d4ebff;}#sk-container-id-2 input.sk-hidden--visually {border: 0;clip: rect(1px 1px 1px 1px);clip: rect(1px, 1px, 1px, 1px);height: 1px;margin: -1px;overflow: hidden;padding: 0;position: absolute;width: 1px;}#sk-container-id-2 div.sk-estimator {font-family: monospace;background-color: #f0f8ff;border: 1px dotted black;border-radius: 0.25em;box-sizing: border-box;margin-bottom: 0.5em;}#sk-container-id-2 div.sk-estimator:hover {background-color: #d4ebff;}#sk-container-id-2 div.sk-parallel-item::after {content: \"\";width: 100%;border-bottom: 1px solid gray;flex-grow: 1;}#sk-container-id-2 div.sk-label:hover label.sk-toggleable__label {background-color: #d4ebff;}#sk-container-id-2 div.sk-serial::before {content: \"\";position: absolute;border-left: 1px solid gray;box-sizing: border-box;top: 0;bottom: 0;left: 50%;z-index: 0;}#sk-container-id-2 div.sk-serial {display: flex;flex-direction: column;align-items: center;background-color: white;padding-right: 0.2em;padding-left: 0.2em;position: relative;}#sk-container-id-2 div.sk-item {position: relative;z-index: 1;}#sk-container-id-2 div.sk-parallel {display: flex;align-items: stretch;justify-content: center;background-color: white;position: relative;}#sk-container-id-2 div.sk-item::before, #sk-container-id-2 div.sk-parallel-item::before {content: \"\";position: absolute;border-left: 1px solid gray;box-sizing: border-box;top: 0;bottom: 0;left: 50%;z-index: -1;}#sk-container-id-2 div.sk-parallel-item {display: flex;flex-direction: column;z-index: 1;position: relative;background-color: white;}#sk-container-id-2 div.sk-parallel-item:first-child::after {align-self: flex-end;width: 50%;}#sk-container-id-2 div.sk-parallel-item:last-child::after {align-self: flex-start;width: 50%;}#sk-container-id-2 div.sk-parallel-item:only-child::after {width: 0;}#sk-container-id-2 div.sk-dashed-wrapped {border: 1px dashed gray;margin: 0 0.4em 0.5em 0.4em;box-sizing: border-box;padding-bottom: 0.4em;background-color: white;}#sk-container-id-2 div.sk-label label {font-family: monospace;font-weight: bold;display: inline-block;line-height: 1.2em;}#sk-container-id-2 div.sk-label-container {text-align: center;}#sk-container-id-2 div.sk-container {/* jupyter's `normalize.less` sets `[hidden] { display: none; }` but bootstrap.min.css set `[hidden] { display: none !important; }` so we also need the `!important` here to be able to override the default hidden behavior on the sphinx rendered scikit-learn.org. See: https://github.com/scikit-learn/scikit-learn/issues/21755 */display: inline-block !important;position: relative;}#sk-container-id-2 div.sk-text-repr-fallback {display: none;}</style><div id=\"sk-container-id-2\" class=\"sk-top-container\"><div class=\"sk-text-repr-fallback\"><pre>RandomizedSearchCV(cv=10, estimator=DecisionTreeClassifier(random_state=42),\n",
       "                   n_iter=50,\n",
       "                   param_distributions={&#x27;max_depth&#x27;: &lt;scipy.stats._distn_infrastructure.rv_discrete_frozen object at 0x00000219ABE5B4C0&gt;,\n",
       "                                        &#x27;min_impurity_decrease&#x27;: array([0. , 0.1, 0.2, 0.3, 0.4, 0.5, 0.6, 0.7, 0.8, 0.9, 1. ]),\n",
       "                                        &#x27;min_samples_leaf&#x27;: &lt;scipy.stats._distn_infrastructure.rv_discrete_frozen object at 0x00000219ABE590C0&gt;,\n",
       "                                        &#x27;min_samples_split&#x27;: &lt;scipy.stats._distn_infrastructure.rv_discrete_frozen object at 0x00000219ABE58190&gt;},\n",
       "                   random_state=42, scoring=&#x27;accuracy&#x27;)</pre><b>In a Jupyter environment, please rerun this cell to show the HTML representation or trust the notebook. <br />On GitHub, the HTML representation is unable to render, please try loading this page with nbviewer.org.</b></div><div class=\"sk-container\" hidden><div class=\"sk-item sk-dashed-wrapped\"><div class=\"sk-label-container\"><div class=\"sk-label sk-toggleable\"><input class=\"sk-toggleable__control sk-hidden--visually\" id=\"sk-estimator-id-2\" type=\"checkbox\" ><label for=\"sk-estimator-id-2\" class=\"sk-toggleable__label sk-toggleable__label-arrow\">RandomizedSearchCV</label><div class=\"sk-toggleable__content\"><pre>RandomizedSearchCV(cv=10, estimator=DecisionTreeClassifier(random_state=42),\n",
       "                   n_iter=50,\n",
       "                   param_distributions={&#x27;max_depth&#x27;: &lt;scipy.stats._distn_infrastructure.rv_discrete_frozen object at 0x00000219ABE5B4C0&gt;,\n",
       "                                        &#x27;min_impurity_decrease&#x27;: array([0. , 0.1, 0.2, 0.3, 0.4, 0.5, 0.6, 0.7, 0.8, 0.9, 1. ]),\n",
       "                                        &#x27;min_samples_leaf&#x27;: &lt;scipy.stats._distn_infrastructure.rv_discrete_frozen object at 0x00000219ABE590C0&gt;,\n",
       "                                        &#x27;min_samples_split&#x27;: &lt;scipy.stats._distn_infrastructure.rv_discrete_frozen object at 0x00000219ABE58190&gt;},\n",
       "                   random_state=42, scoring=&#x27;accuracy&#x27;)</pre></div></div></div><div class=\"sk-parallel\"><div class=\"sk-parallel-item\"><div class=\"sk-item\"><div class=\"sk-label-container\"><div class=\"sk-label sk-toggleable\"><input class=\"sk-toggleable__control sk-hidden--visually\" id=\"sk-estimator-id-3\" type=\"checkbox\" ><label for=\"sk-estimator-id-3\" class=\"sk-toggleable__label sk-toggleable__label-arrow\">estimator: DecisionTreeClassifier</label><div class=\"sk-toggleable__content\"><pre>DecisionTreeClassifier(random_state=42)</pre></div></div></div><div class=\"sk-serial\"><div class=\"sk-item\"><div class=\"sk-estimator sk-toggleable\"><input class=\"sk-toggleable__control sk-hidden--visually\" id=\"sk-estimator-id-4\" type=\"checkbox\" ><label for=\"sk-estimator-id-4\" class=\"sk-toggleable__label sk-toggleable__label-arrow\">DecisionTreeClassifier</label><div class=\"sk-toggleable__content\"><pre>DecisionTreeClassifier(random_state=42)</pre></div></div></div></div></div></div></div></div></div></div>"
      ],
      "text/plain": [
       "RandomizedSearchCV(cv=10, estimator=DecisionTreeClassifier(random_state=42),\n",
       "                   n_iter=50,\n",
       "                   param_distributions={'max_depth': <scipy.stats._distn_infrastructure.rv_discrete_frozen object at 0x00000219ABE5B4C0>,\n",
       "                                        'min_impurity_decrease': array([0. , 0.1, 0.2, 0.3, 0.4, 0.5, 0.6, 0.7, 0.8, 0.9, 1. ]),\n",
       "                                        'min_samples_leaf': <scipy.stats._distn_infrastructure.rv_discrete_frozen object at 0x00000219ABE590C0>,\n",
       "                                        'min_samples_split': <scipy.stats._distn_infrastructure.rv_discrete_frozen object at 0x00000219ABE58190>},\n",
       "                   random_state=42, scoring='accuracy')"
      ]
     },
     "execution_count": 11,
     "metadata": {},
     "output_type": "execute_result"
    }
   ],
   "source": [
    "# using sklearn RandomizedSearchCV\n",
    "from sklearn.model_selection import RandomizedSearchCV\n",
    "from scipy.stats import randint\n",
    "\n",
    "param_distribs = {\n",
    "    'max_depth': randint(low=1, high=3), # with depth 3, it learn 100% accurate\n",
    "    'min_samples_split': randint(low=2, high=10),\n",
    "    'min_samples_leaf' : randint(low=1, high=10),\n",
    "    'min_impurity_decrease' : np.linspace(0, 1, 11)\n",
    "    }\n",
    "\n",
    "tree = DecisionTreeClassifier(random_state=42)\n",
    "rnd_search = RandomizedSearchCV(tree, param_distributions=param_distribs,\n",
    "                                n_iter=50, cv=10, scoring='accuracy', random_state=42)\n",
    "rnd_search.fit(X_train, y_train)"
   ]
  },
  {
   "cell_type": "code",
   "execution_count": 12,
   "id": "9d8e6931",
   "metadata": {
    "scrolled": true
   },
   "outputs": [
    {
     "name": "stdout",
     "output_type": "stream",
     "text": [
      "Index(['mean_fit_time', 'std_fit_time', 'mean_score_time', 'std_score_time',\n",
      "       'param_max_depth', 'param_min_impurity_decrease',\n",
      "       'param_min_samples_leaf', 'param_min_samples_split', 'params',\n",
      "       'split0_test_score', 'split1_test_score', 'split2_test_score',\n",
      "       'split3_test_score', 'split4_test_score', 'split5_test_score',\n",
      "       'split6_test_score', 'split7_test_score', 'split8_test_score',\n",
      "       'split9_test_score', 'mean_test_score', 'std_test_score',\n",
      "       'rank_test_score'],\n",
      "      dtype='object')\n"
     ]
    },
    {
     "data": {
      "text/html": [
       "<div>\n",
       "<style scoped>\n",
       "    .dataframe tbody tr th:only-of-type {\n",
       "        vertical-align: middle;\n",
       "    }\n",
       "\n",
       "    .dataframe tbody tr th {\n",
       "        vertical-align: top;\n",
       "    }\n",
       "\n",
       "    .dataframe thead th {\n",
       "        text-align: right;\n",
       "    }\n",
       "</style>\n",
       "<table border=\"1\" class=\"dataframe\">\n",
       "  <thead>\n",
       "    <tr style=\"text-align: right;\">\n",
       "      <th></th>\n",
       "      <th>params</th>\n",
       "      <th>mean_test_score</th>\n",
       "      <th>std_test_score</th>\n",
       "      <th>rank_test_score</th>\n",
       "    </tr>\n",
       "  </thead>\n",
       "  <tbody>\n",
       "    <tr>\n",
       "      <th>21</th>\n",
       "      <td>{'max_depth': 2, 'min_impurity_decrease': 0.1,...</td>\n",
       "      <td>0.91</td>\n",
       "      <td>0.07000</td>\n",
       "      <td>1</td>\n",
       "    </tr>\n",
       "    <tr>\n",
       "      <th>29</th>\n",
       "      <td>{'max_depth': 2, 'min_impurity_decrease': 0.1,...</td>\n",
       "      <td>0.91</td>\n",
       "      <td>0.07000</td>\n",
       "      <td>1</td>\n",
       "    </tr>\n",
       "    <tr>\n",
       "      <th>40</th>\n",
       "      <td>{'max_depth': 2, 'min_impurity_decrease': 0.1,...</td>\n",
       "      <td>0.91</td>\n",
       "      <td>0.07000</td>\n",
       "      <td>1</td>\n",
       "    </tr>\n",
       "    <tr>\n",
       "      <th>49</th>\n",
       "      <td>{'max_depth': 1, 'min_impurity_decrease': 0.0,...</td>\n",
       "      <td>0.75</td>\n",
       "      <td>0.10247</td>\n",
       "      <td>4</td>\n",
       "    </tr>\n",
       "    <tr>\n",
       "      <th>23</th>\n",
       "      <td>{'max_depth': 1, 'min_impurity_decrease': 0.0,...</td>\n",
       "      <td>0.75</td>\n",
       "      <td>0.10247</td>\n",
       "      <td>4</td>\n",
       "    </tr>\n",
       "    <tr>\n",
       "      <th>32</th>\n",
       "      <td>{'max_depth': 1, 'min_impurity_decrease': 0.0,...</td>\n",
       "      <td>0.75</td>\n",
       "      <td>0.10247</td>\n",
       "      <td>4</td>\n",
       "    </tr>\n",
       "    <tr>\n",
       "      <th>18</th>\n",
       "      <td>{'max_depth': 1, 'min_impurity_decrease': 0.1,...</td>\n",
       "      <td>0.75</td>\n",
       "      <td>0.10247</td>\n",
       "      <td>4</td>\n",
       "    </tr>\n",
       "    <tr>\n",
       "      <th>15</th>\n",
       "      <td>{'max_depth': 1, 'min_impurity_decrease': 0.0,...</td>\n",
       "      <td>0.75</td>\n",
       "      <td>0.10247</td>\n",
       "      <td>4</td>\n",
       "    </tr>\n",
       "    <tr>\n",
       "      <th>12</th>\n",
       "      <td>{'max_depth': 1, 'min_impurity_decrease': 0.1,...</td>\n",
       "      <td>0.75</td>\n",
       "      <td>0.10247</td>\n",
       "      <td>4</td>\n",
       "    </tr>\n",
       "    <tr>\n",
       "      <th>13</th>\n",
       "      <td>{'max_depth': 1, 'min_impurity_decrease': 0.1,...</td>\n",
       "      <td>0.75</td>\n",
       "      <td>0.10247</td>\n",
       "      <td>4</td>\n",
       "    </tr>\n",
       "    <tr>\n",
       "      <th>46</th>\n",
       "      <td>{'max_depth': 1, 'min_impurity_decrease': 0.0,...</td>\n",
       "      <td>0.75</td>\n",
       "      <td>0.10247</td>\n",
       "      <td>4</td>\n",
       "    </tr>\n",
       "    <tr>\n",
       "      <th>38</th>\n",
       "      <td>{'max_depth': 1, 'min_impurity_decrease': 1.0,...</td>\n",
       "      <td>0.52</td>\n",
       "      <td>0.04000</td>\n",
       "      <td>12</td>\n",
       "    </tr>\n",
       "    <tr>\n",
       "      <th>30</th>\n",
       "      <td>{'max_depth': 1, 'min_impurity_decrease': 0.60...</td>\n",
       "      <td>0.52</td>\n",
       "      <td>0.04000</td>\n",
       "      <td>12</td>\n",
       "    </tr>\n",
       "    <tr>\n",
       "      <th>47</th>\n",
       "      <td>{'max_depth': 2, 'min_impurity_decrease': 0.70...</td>\n",
       "      <td>0.52</td>\n",
       "      <td>0.04000</td>\n",
       "      <td>12</td>\n",
       "    </tr>\n",
       "    <tr>\n",
       "      <th>31</th>\n",
       "      <td>{'max_depth': 1, 'min_impurity_decrease': 0.70...</td>\n",
       "      <td>0.52</td>\n",
       "      <td>0.04000</td>\n",
       "      <td>12</td>\n",
       "    </tr>\n",
       "    <tr>\n",
       "      <th>45</th>\n",
       "      <td>{'max_depth': 2, 'min_impurity_decrease': 0.70...</td>\n",
       "      <td>0.52</td>\n",
       "      <td>0.04000</td>\n",
       "      <td>12</td>\n",
       "    </tr>\n",
       "    <tr>\n",
       "      <th>33</th>\n",
       "      <td>{'max_depth': 1, 'min_impurity_decrease': 0.2,...</td>\n",
       "      <td>0.52</td>\n",
       "      <td>0.04000</td>\n",
       "      <td>12</td>\n",
       "    </tr>\n",
       "    <tr>\n",
       "      <th>39</th>\n",
       "      <td>{'max_depth': 2, 'min_impurity_decrease': 0.60...</td>\n",
       "      <td>0.52</td>\n",
       "      <td>0.04000</td>\n",
       "      <td>12</td>\n",
       "    </tr>\n",
       "    <tr>\n",
       "      <th>44</th>\n",
       "      <td>{'max_depth': 1, 'min_impurity_decrease': 0.8,...</td>\n",
       "      <td>0.52</td>\n",
       "      <td>0.04000</td>\n",
       "      <td>12</td>\n",
       "    </tr>\n",
       "    <tr>\n",
       "      <th>35</th>\n",
       "      <td>{'max_depth': 1, 'min_impurity_decrease': 0.9,...</td>\n",
       "      <td>0.52</td>\n",
       "      <td>0.04000</td>\n",
       "      <td>12</td>\n",
       "    </tr>\n",
       "    <tr>\n",
       "      <th>43</th>\n",
       "      <td>{'max_depth': 1, 'min_impurity_decrease': 1.0,...</td>\n",
       "      <td>0.52</td>\n",
       "      <td>0.04000</td>\n",
       "      <td>12</td>\n",
       "    </tr>\n",
       "    <tr>\n",
       "      <th>36</th>\n",
       "      <td>{'max_depth': 2, 'min_impurity_decrease': 0.60...</td>\n",
       "      <td>0.52</td>\n",
       "      <td>0.04000</td>\n",
       "      <td>12</td>\n",
       "    </tr>\n",
       "    <tr>\n",
       "      <th>42</th>\n",
       "      <td>{'max_depth': 1, 'min_impurity_decrease': 0.60...</td>\n",
       "      <td>0.52</td>\n",
       "      <td>0.04000</td>\n",
       "      <td>12</td>\n",
       "    </tr>\n",
       "    <tr>\n",
       "      <th>41</th>\n",
       "      <td>{'max_depth': 2, 'min_impurity_decrease': 0.30...</td>\n",
       "      <td>0.52</td>\n",
       "      <td>0.04000</td>\n",
       "      <td>12</td>\n",
       "    </tr>\n",
       "    <tr>\n",
       "      <th>37</th>\n",
       "      <td>{'max_depth': 1, 'min_impurity_decrease': 0.30...</td>\n",
       "      <td>0.52</td>\n",
       "      <td>0.04000</td>\n",
       "      <td>12</td>\n",
       "    </tr>\n",
       "    <tr>\n",
       "      <th>34</th>\n",
       "      <td>{'max_depth': 2, 'min_impurity_decrease': 0.60...</td>\n",
       "      <td>0.52</td>\n",
       "      <td>0.04000</td>\n",
       "      <td>12</td>\n",
       "    </tr>\n",
       "    <tr>\n",
       "      <th>28</th>\n",
       "      <td>{'max_depth': 1, 'min_impurity_decrease': 0.60...</td>\n",
       "      <td>0.52</td>\n",
       "      <td>0.04000</td>\n",
       "      <td>12</td>\n",
       "    </tr>\n",
       "    <tr>\n",
       "      <th>0</th>\n",
       "      <td>{'max_depth': 1, 'min_impurity_decrease': 0.30...</td>\n",
       "      <td>0.52</td>\n",
       "      <td>0.04000</td>\n",
       "      <td>12</td>\n",
       "    </tr>\n",
       "    <tr>\n",
       "      <th>26</th>\n",
       "      <td>{'max_depth': 2, 'min_impurity_decrease': 0.2,...</td>\n",
       "      <td>0.52</td>\n",
       "      <td>0.04000</td>\n",
       "      <td>12</td>\n",
       "    </tr>\n",
       "    <tr>\n",
       "      <th>1</th>\n",
       "      <td>{'max_depth': 1, 'min_impurity_decrease': 0.60...</td>\n",
       "      <td>0.52</td>\n",
       "      <td>0.04000</td>\n",
       "      <td>12</td>\n",
       "    </tr>\n",
       "    <tr>\n",
       "      <th>2</th>\n",
       "      <td>{'max_depth': 1, 'min_impurity_decrease': 1.0,...</td>\n",
       "      <td>0.52</td>\n",
       "      <td>0.04000</td>\n",
       "      <td>12</td>\n",
       "    </tr>\n",
       "    <tr>\n",
       "      <th>3</th>\n",
       "      <td>{'max_depth': 2, 'min_impurity_decrease': 0.70...</td>\n",
       "      <td>0.52</td>\n",
       "      <td>0.04000</td>\n",
       "      <td>12</td>\n",
       "    </tr>\n",
       "    <tr>\n",
       "      <th>4</th>\n",
       "      <td>{'max_depth': 2, 'min_impurity_decrease': 0.4,...</td>\n",
       "      <td>0.52</td>\n",
       "      <td>0.04000</td>\n",
       "      <td>12</td>\n",
       "    </tr>\n",
       "    <tr>\n",
       "      <th>5</th>\n",
       "      <td>{'max_depth': 2, 'min_impurity_decrease': 0.5,...</td>\n",
       "      <td>0.52</td>\n",
       "      <td>0.04000</td>\n",
       "      <td>12</td>\n",
       "    </tr>\n",
       "    <tr>\n",
       "      <th>6</th>\n",
       "      <td>{'max_depth': 2, 'min_impurity_decrease': 0.4,...</td>\n",
       "      <td>0.52</td>\n",
       "      <td>0.04000</td>\n",
       "      <td>12</td>\n",
       "    </tr>\n",
       "    <tr>\n",
       "      <th>7</th>\n",
       "      <td>{'max_depth': 2, 'min_impurity_decrease': 0.5,...</td>\n",
       "      <td>0.52</td>\n",
       "      <td>0.04000</td>\n",
       "      <td>12</td>\n",
       "    </tr>\n",
       "    <tr>\n",
       "      <th>8</th>\n",
       "      <td>{'max_depth': 1, 'min_impurity_decrease': 1.0,...</td>\n",
       "      <td>0.52</td>\n",
       "      <td>0.04000</td>\n",
       "      <td>12</td>\n",
       "    </tr>\n",
       "    <tr>\n",
       "      <th>9</th>\n",
       "      <td>{'max_depth': 1, 'min_impurity_decrease': 0.30...</td>\n",
       "      <td>0.52</td>\n",
       "      <td>0.04000</td>\n",
       "      <td>12</td>\n",
       "    </tr>\n",
       "    <tr>\n",
       "      <th>10</th>\n",
       "      <td>{'max_depth': 1, 'min_impurity_decrease': 0.2,...</td>\n",
       "      <td>0.52</td>\n",
       "      <td>0.04000</td>\n",
       "      <td>12</td>\n",
       "    </tr>\n",
       "    <tr>\n",
       "      <th>11</th>\n",
       "      <td>{'max_depth': 1, 'min_impurity_decrease': 0.60...</td>\n",
       "      <td>0.52</td>\n",
       "      <td>0.04000</td>\n",
       "      <td>12</td>\n",
       "    </tr>\n",
       "    <tr>\n",
       "      <th>14</th>\n",
       "      <td>{'max_depth': 1, 'min_impurity_decrease': 0.60...</td>\n",
       "      <td>0.52</td>\n",
       "      <td>0.04000</td>\n",
       "      <td>12</td>\n",
       "    </tr>\n",
       "    <tr>\n",
       "      <th>16</th>\n",
       "      <td>{'max_depth': 2, 'min_impurity_decrease': 0.30...</td>\n",
       "      <td>0.52</td>\n",
       "      <td>0.04000</td>\n",
       "      <td>12</td>\n",
       "    </tr>\n",
       "    <tr>\n",
       "      <th>17</th>\n",
       "      <td>{'max_depth': 2, 'min_impurity_decrease': 0.5,...</td>\n",
       "      <td>0.52</td>\n",
       "      <td>0.04000</td>\n",
       "      <td>12</td>\n",
       "    </tr>\n",
       "    <tr>\n",
       "      <th>19</th>\n",
       "      <td>{'max_depth': 2, 'min_impurity_decrease': 0.30...</td>\n",
       "      <td>0.52</td>\n",
       "      <td>0.04000</td>\n",
       "      <td>12</td>\n",
       "    </tr>\n",
       "    <tr>\n",
       "      <th>20</th>\n",
       "      <td>{'max_depth': 1, 'min_impurity_decrease': 0.8,...</td>\n",
       "      <td>0.52</td>\n",
       "      <td>0.04000</td>\n",
       "      <td>12</td>\n",
       "    </tr>\n",
       "    <tr>\n",
       "      <th>22</th>\n",
       "      <td>{'max_depth': 2, 'min_impurity_decrease': 0.8,...</td>\n",
       "      <td>0.52</td>\n",
       "      <td>0.04000</td>\n",
       "      <td>12</td>\n",
       "    </tr>\n",
       "    <tr>\n",
       "      <th>48</th>\n",
       "      <td>{'max_depth': 2, 'min_impurity_decrease': 0.70...</td>\n",
       "      <td>0.52</td>\n",
       "      <td>0.04000</td>\n",
       "      <td>12</td>\n",
       "    </tr>\n",
       "    <tr>\n",
       "      <th>25</th>\n",
       "      <td>{'max_depth': 2, 'min_impurity_decrease': 0.70...</td>\n",
       "      <td>0.52</td>\n",
       "      <td>0.04000</td>\n",
       "      <td>12</td>\n",
       "    </tr>\n",
       "    <tr>\n",
       "      <th>27</th>\n",
       "      <td>{'max_depth': 1, 'min_impurity_decrease': 0.4,...</td>\n",
       "      <td>0.52</td>\n",
       "      <td>0.04000</td>\n",
       "      <td>12</td>\n",
       "    </tr>\n",
       "    <tr>\n",
       "      <th>24</th>\n",
       "      <td>{'max_depth': 1, 'min_impurity_decrease': 0.70...</td>\n",
       "      <td>0.52</td>\n",
       "      <td>0.04000</td>\n",
       "      <td>12</td>\n",
       "    </tr>\n",
       "  </tbody>\n",
       "</table>\n",
       "</div>"
      ],
      "text/plain": [
       "                                               params  mean_test_score  \\\n",
       "21  {'max_depth': 2, 'min_impurity_decrease': 0.1,...             0.91   \n",
       "29  {'max_depth': 2, 'min_impurity_decrease': 0.1,...             0.91   \n",
       "40  {'max_depth': 2, 'min_impurity_decrease': 0.1,...             0.91   \n",
       "49  {'max_depth': 1, 'min_impurity_decrease': 0.0,...             0.75   \n",
       "23  {'max_depth': 1, 'min_impurity_decrease': 0.0,...             0.75   \n",
       "32  {'max_depth': 1, 'min_impurity_decrease': 0.0,...             0.75   \n",
       "18  {'max_depth': 1, 'min_impurity_decrease': 0.1,...             0.75   \n",
       "15  {'max_depth': 1, 'min_impurity_decrease': 0.0,...             0.75   \n",
       "12  {'max_depth': 1, 'min_impurity_decrease': 0.1,...             0.75   \n",
       "13  {'max_depth': 1, 'min_impurity_decrease': 0.1,...             0.75   \n",
       "46  {'max_depth': 1, 'min_impurity_decrease': 0.0,...             0.75   \n",
       "38  {'max_depth': 1, 'min_impurity_decrease': 1.0,...             0.52   \n",
       "30  {'max_depth': 1, 'min_impurity_decrease': 0.60...             0.52   \n",
       "47  {'max_depth': 2, 'min_impurity_decrease': 0.70...             0.52   \n",
       "31  {'max_depth': 1, 'min_impurity_decrease': 0.70...             0.52   \n",
       "45  {'max_depth': 2, 'min_impurity_decrease': 0.70...             0.52   \n",
       "33  {'max_depth': 1, 'min_impurity_decrease': 0.2,...             0.52   \n",
       "39  {'max_depth': 2, 'min_impurity_decrease': 0.60...             0.52   \n",
       "44  {'max_depth': 1, 'min_impurity_decrease': 0.8,...             0.52   \n",
       "35  {'max_depth': 1, 'min_impurity_decrease': 0.9,...             0.52   \n",
       "43  {'max_depth': 1, 'min_impurity_decrease': 1.0,...             0.52   \n",
       "36  {'max_depth': 2, 'min_impurity_decrease': 0.60...             0.52   \n",
       "42  {'max_depth': 1, 'min_impurity_decrease': 0.60...             0.52   \n",
       "41  {'max_depth': 2, 'min_impurity_decrease': 0.30...             0.52   \n",
       "37  {'max_depth': 1, 'min_impurity_decrease': 0.30...             0.52   \n",
       "34  {'max_depth': 2, 'min_impurity_decrease': 0.60...             0.52   \n",
       "28  {'max_depth': 1, 'min_impurity_decrease': 0.60...             0.52   \n",
       "0   {'max_depth': 1, 'min_impurity_decrease': 0.30...             0.52   \n",
       "26  {'max_depth': 2, 'min_impurity_decrease': 0.2,...             0.52   \n",
       "1   {'max_depth': 1, 'min_impurity_decrease': 0.60...             0.52   \n",
       "2   {'max_depth': 1, 'min_impurity_decrease': 1.0,...             0.52   \n",
       "3   {'max_depth': 2, 'min_impurity_decrease': 0.70...             0.52   \n",
       "4   {'max_depth': 2, 'min_impurity_decrease': 0.4,...             0.52   \n",
       "5   {'max_depth': 2, 'min_impurity_decrease': 0.5,...             0.52   \n",
       "6   {'max_depth': 2, 'min_impurity_decrease': 0.4,...             0.52   \n",
       "7   {'max_depth': 2, 'min_impurity_decrease': 0.5,...             0.52   \n",
       "8   {'max_depth': 1, 'min_impurity_decrease': 1.0,...             0.52   \n",
       "9   {'max_depth': 1, 'min_impurity_decrease': 0.30...             0.52   \n",
       "10  {'max_depth': 1, 'min_impurity_decrease': 0.2,...             0.52   \n",
       "11  {'max_depth': 1, 'min_impurity_decrease': 0.60...             0.52   \n",
       "14  {'max_depth': 1, 'min_impurity_decrease': 0.60...             0.52   \n",
       "16  {'max_depth': 2, 'min_impurity_decrease': 0.30...             0.52   \n",
       "17  {'max_depth': 2, 'min_impurity_decrease': 0.5,...             0.52   \n",
       "19  {'max_depth': 2, 'min_impurity_decrease': 0.30...             0.52   \n",
       "20  {'max_depth': 1, 'min_impurity_decrease': 0.8,...             0.52   \n",
       "22  {'max_depth': 2, 'min_impurity_decrease': 0.8,...             0.52   \n",
       "48  {'max_depth': 2, 'min_impurity_decrease': 0.70...             0.52   \n",
       "25  {'max_depth': 2, 'min_impurity_decrease': 0.70...             0.52   \n",
       "27  {'max_depth': 1, 'min_impurity_decrease': 0.4,...             0.52   \n",
       "24  {'max_depth': 1, 'min_impurity_decrease': 0.70...             0.52   \n",
       "\n",
       "    std_test_score  rank_test_score  \n",
       "21         0.07000                1  \n",
       "29         0.07000                1  \n",
       "40         0.07000                1  \n",
       "49         0.10247                4  \n",
       "23         0.10247                4  \n",
       "32         0.10247                4  \n",
       "18         0.10247                4  \n",
       "15         0.10247                4  \n",
       "12         0.10247                4  \n",
       "13         0.10247                4  \n",
       "46         0.10247                4  \n",
       "38         0.04000               12  \n",
       "30         0.04000               12  \n",
       "47         0.04000               12  \n",
       "31         0.04000               12  \n",
       "45         0.04000               12  \n",
       "33         0.04000               12  \n",
       "39         0.04000               12  \n",
       "44         0.04000               12  \n",
       "35         0.04000               12  \n",
       "43         0.04000               12  \n",
       "36         0.04000               12  \n",
       "42         0.04000               12  \n",
       "41         0.04000               12  \n",
       "37         0.04000               12  \n",
       "34         0.04000               12  \n",
       "28         0.04000               12  \n",
       "0          0.04000               12  \n",
       "26         0.04000               12  \n",
       "1          0.04000               12  \n",
       "2          0.04000               12  \n",
       "3          0.04000               12  \n",
       "4          0.04000               12  \n",
       "5          0.04000               12  \n",
       "6          0.04000               12  \n",
       "7          0.04000               12  \n",
       "8          0.04000               12  \n",
       "9          0.04000               12  \n",
       "10         0.04000               12  \n",
       "11         0.04000               12  \n",
       "14         0.04000               12  \n",
       "16         0.04000               12  \n",
       "17         0.04000               12  \n",
       "19         0.04000               12  \n",
       "20         0.04000               12  \n",
       "22         0.04000               12  \n",
       "48         0.04000               12  \n",
       "25         0.04000               12  \n",
       "27         0.04000               12  \n",
       "24         0.04000               12  "
      ]
     },
     "execution_count": 12,
     "metadata": {},
     "output_type": "execute_result"
    }
   ],
   "source": [
    "# result as a dataframe\n",
    "result = pd.DataFrame(rnd_search.cv_results_)\n",
    "print(result.columns)\n",
    "result[['params', 'mean_test_score', 'std_test_score', 'rank_test_score']].sort_values('rank_test_score')"
   ]
  },
  {
   "cell_type": "code",
   "execution_count": 13,
   "id": "89af71ff",
   "metadata": {
    "scrolled": true
   },
   "outputs": [
    {
     "data": {
      "text/plain": [
       "[<matplotlib.lines.Line2D at 0x219abc9d0c0>]"
      ]
     },
     "execution_count": 13,
     "metadata": {},
     "output_type": "execute_result"
    },
    {
     "data": {
      "image/png": "[encoded data removed]",
      "text/plain": [
       "<Figure size 400x400 with 1 Axes>"
      ]
     },
     "metadata": {},
     "output_type": "display_data"
    }
   ],
   "source": [
    "# fix other params, explore min_impurity_decrease\n",
    "params_impurity = np.linspace(0, 1, 11)\n",
    "scores_impurity = np.zeros(11)\n",
    "for i, param in enumerate(params_impurity):\n",
    "    tree = DecisionTreeClassifier(max_depth=2, min_samples_leaf=5, min_impurity_decrease=param)\n",
    "    cvScore = cross_val_score(tree, X_train, y_train, cv=10, scoring=\"accuracy\")\n",
    "    scores_impurity[i] = cvScore.mean()\n",
    "plt.figure(figsize=(4, 4))\n",
    "plt.plot(params_impurity, scores_impurity)"
   ]
  },
  {
   "cell_type": "code",
   "execution_count": 14,
   "id": "23da6e77",
   "metadata": {
    "scrolled": true
   },
   "outputs": [
    {
     "data": {
      "text/plain": [
       "[<matplotlib.lines.Line2D at 0x219abd2ef80>]"
      ]
     },
     "execution_count": 14,
     "metadata": {},
     "output_type": "execute_result"
    },
    {
     "data": {
      "image/png": "[encoded data removed]",
      "text/plain": [
       "<Figure size 400x400 with 1 Axes>"
      ]
     },
     "metadata": {},
     "output_type": "display_data"
    }
   ],
   "source": [
    "# fix other params, explore min_samples_split\n",
    "params_split = np.linspace(2, 10, 9)\n",
    "scores_split = np.zeros(9)\n",
    "for i, param in enumerate(params_split):\n",
    "    tree = DecisionTreeClassifier(max_depth=2, min_samples_leaf=5, min_samples_split=int(param))\n",
    "    cvScore = cross_val_score(tree, X_train, y_train, cv=10, scoring=\"accuracy\")\n",
    "    scores_split[i] = cvScore.mean()\n",
    "plt.figure(figsize=(4, 4))\n",
    "plt.plot(params_split, scores_split)"
   ]
  },
  {
   "cell_type": "code",
   "execution_count": 15,
   "id": "d10d81ea",
   "metadata": {
    "scrolled": true
   },
   "outputs": [
    {
     "data": {
      "text/plain": [
       "[<matplotlib.lines.Line2D at 0x219abed5a20>]"
      ]
     },
     "execution_count": 15,
     "metadata": {},
     "output_type": "execute_result"
    },
    {
     "data": {
      "image/png": "[encoded data removed]",
      "text/plain": [
       "<Figure size 400x400 with 1 Axes>"
      ]
     },
     "metadata": {},
     "output_type": "display_data"
    }
   ],
   "source": [
    "# fix other params, explore min_samples_leaf\n",
    "params_leaf = np.linspace(1, 10, 10)\n",
    "scores_leaf = np.zeros(10)\n",
    "for i, param in enumerate(params_leaf):\n",
    "    tree = DecisionTreeClassifier(max_depth=2, min_samples_leaf=int(param))\n",
    "    cvScore = cross_val_score(tree, X_train, y_train, cv=10, scoring=\"accuracy\")\n",
    "    scores_leaf[i] = cvScore.mean()\n",
    "plt.figure(figsize=(4, 4))\n",
    "plt.plot(params_leaf, scores_leaf)"
   ]
  },
  {
   "cell_type": "markdown",
   "id": "5658dc06",
   "metadata": {},
   "source": [
    "### 3. Put all your results in a suitable form"
   ]
  },
  {
   "cell_type": "code",
   "execution_count": 16,
   "id": "256eafc3",
   "metadata": {},
   "outputs": [
    {
     "data": {
      "image/png": "[encoded data removed]",
      "text/plain": [
       "<Figure size 1200x400 with 3 Axes>"
      ]
     },
     "metadata": {},
     "output_type": "display_data"
    }
   ],
   "source": [
    "# plot graphs altogether\n",
    "fig, axes = plt.subplots(ncols=3, figsize=(12, 4), sharey=True)\n",
    "\n",
    "plt.sca(axes[0])\n",
    "plt.plot(params_impurity, scores_impurity)\n",
    "plt.xlabel(\"min_impurity_decrease\")\n",
    "plt.ylabel(\"Accuracy\")\n",
    "plt.title(\"Examine min_impurity_decrease param\")\n",
    "\n",
    "plt.sca(axes[1])\n",
    "plt.plot(params_split, scores_split)\n",
    "plt.xlabel(\"min_samples_split\")\n",
    "plt.ylabel(\"Accuracy\")\n",
    "plt.title(\"Examine min_samples_split param\")\n",
    "\n",
    "plt.sca(axes[2])\n",
    "plt.plot(params_leaf, scores_leaf)\n",
    "plt.xlabel(\"min_samples_leaf\")\n",
    "plt.ylabel(\"Accuracy\")\n",
    "plt.title(\"Examine min_samples_leaf param\")\n",
    "\n",
    "plt.show()"
   ]
  },
  {
   "cell_type": "markdown",
   "id": "9cc7239d",
   "metadata": {},
   "source": [
    "### 4. Using the best parameters experiment test sets (Use three different train/test split)"
   ]
  },
  {
   "cell_type": "code",
   "execution_count": 17,
   "id": "53d61e55",
   "metadata": {
    "scrolled": true
   },
   "outputs": [
    {
     "name": "stdout",
     "output_type": "stream",
     "text": [
      "best max_depth: 2\n",
      "best min_impurity_decrease: 0.1\n",
      "best min_samples_leaf: 5\n",
      "best min_samples_split: 9\n"
     ]
    }
   ],
   "source": [
    "# find best parameters found by RandomizedSearchCV\n",
    "best_params = result.sort_values('rank_test_score')[['params']].iloc[0]['params']\n",
    "for k, v in best_params.items():\n",
    "    print(f\"best {k}: {best_params[k]}\")"
   ]
  },
  {
   "cell_type": "code",
   "execution_count": 18,
   "id": "35069d92",
   "metadata": {},
   "outputs": [],
   "source": [
    "tree = DecisionTreeClassifier(\n",
    "    max_depth=2, \n",
    "    min_impurity_decrease=0.1,\n",
    "    min_samples_leaf=5,\n",
    "    min_samples_split=9)\n",
    "\n",
    "def accuracy_report(clf, X_train, X_test, y_train, y_test):\n",
    "    clf.fit(X_train, y_train)\n",
    "    pred_train = clf.predict(X_train)\n",
    "    pred_test = clf.predict(X_test)\n",
    "\n",
    "    accuracy_train = sum(pred_train==y_train) / len(y_train)\n",
    "    accuracy_test = sum(pred_test==y_test) / len(y_test)\n",
    "\n",
    "    print(\"Accuracy on the train set: \", accuracy_train)\n",
    "    print(\"Accuracy on the set   set: \", accuracy_test)"
   ]
  },
  {
   "cell_type": "code",
   "execution_count": 19,
   "id": "8871fb21",
   "metadata": {
    "scrolled": true
   },
   "outputs": [
    {
     "name": "stdout",
     "output_type": "stream",
     "text": [
      "Accuracy on the train set:  0.91\n",
      "Accuracy on the set   set:  0.9318181818181818\n"
     ]
    }
   ],
   "source": [
    "accuracy_report(tree, X_train, X_test, y_train, y_test)"
   ]
  },
  {
   "cell_type": "markdown",
   "id": "4a771235",
   "metadata": {},
   "source": [
    "- Does the decision tree generalize well to new data? How do you tell?\n",
    "    - It generalizes well to new data.\n",
    "    - It has higher accuracy on the test set than on the train set. It means the classifier works well with unseed data."
   ]
  },
  {
   "cell_type": "code",
   "execution_count": 20,
   "id": "077e3c49",
   "metadata": {},
   "outputs": [
    {
     "name": "stdout",
     "output_type": "stream",
     "text": [
      "(70, 81)\n",
      "(74, 81)\n",
      "Accuracy on the train set:  0.9\n",
      "Accuracy on the set   set:  0.9324324324324325\n"
     ]
    }
   ],
   "source": [
    "# Tree 2 (move 30% of the instances from the original training set into the testing set)\n",
    "# test set size: 74, train set size: 70 (for 10-fold cross-validation)\n",
    "from sklearn.model_selection import train_test_split\n",
    "X_train, X_test, y_train, y_test = train_test_split(X, y, test_size=74, random_state=42)\n",
    "print(X_train.shape)\n",
    "print(X_test.shape)\n",
    "accuracy_report(tree, X_train, X_test, y_train, y_test)"
   ]
  },
  {
   "cell_type": "code",
   "execution_count": 21,
   "id": "84127592",
   "metadata": {
    "scrolled": true
   },
   "outputs": [
    {
     "name": "stdout",
     "output_type": "stream",
     "text": [
      "(40, 81)\n",
      "(104, 81)\n",
      "Accuracy on the train set:  0.925\n",
      "Accuracy on the set   set:  0.9134615384615384\n"
     ]
    }
   ],
   "source": [
    "# Tree 3 (move 60% of the instances from the original training set into the testing set)\n",
    "# test set size: 104, train set size: 40 (for 10-fold cross-validation)\n",
    "from sklearn.model_selection import train_test_split\n",
    "X_train, X_test, y_train, y_test = train_test_split(X, y, test_size=104, random_state=42)\n",
    "print(X_train.shape)\n",
    "print(X_test.shape)\n",
    "accuracy_report(tree, X_train, X_test, y_train, y_test)"
   ]
  },
  {
   "cell_type": "markdown",
   "id": "991f8e9e",
   "metadata": {},
   "source": [
    "### 5. Try other decision tree algorithms"
   ]
  },
  {
   "cell_type": "code",
   "execution_count": 22,
   "id": "62fee761",
   "metadata": {},
   "outputs": [],
   "source": [
    "# Random forest Classifier\n",
    "from sklearn.ensemble import RandomForestClassifier\n",
    "forest = RandomForestClassifier()"
   ]
  },
  {
   "cell_type": "code",
   "execution_count": 23,
   "id": "ada62c89",
   "metadata": {},
   "outputs": [
    {
     "data": {
      "text/html": [
       "<style>#sk-container-id-3 {color: black;background-color: white;}#sk-container-id-3 pre{padding: 0;}#sk-container-id-3 div.sk-toggleable {background-color: white;}#sk-container-id-3 label.sk-toggleable__label {cursor: pointer;display: block;width: 100%;margin-bottom: 0;padding: 0.3em;box-sizing: border-box;text-align: center;}#sk-container-id-3 label.sk-toggleable__label-arrow:before {content: \"▸\";float: left;margin-right: 0.25em;color: #696969;}#sk-container-id-3 label.sk-toggleable__label-arrow:hover:before {color: black;}#sk-container-id-3 div.sk-estimator:hover label.sk-toggleable__label-arrow:before {color: black;}#sk-container-id-3 div.sk-toggleable__content {max-height: 0;max-width: 0;overflow: hidden;text-align: left;background-color: #f0f8ff;}#sk-container-id-3 div.sk-toggleable__content pre {margin: 0.2em;color: black;border-radius: 0.25em;background-color: #f0f8ff;}#sk-container-id-3 input.sk-toggleable__control:checked~div.sk-toggleable__content {max-height: 200px;max-width: 100%;overflow: auto;}#sk-container-id-3 input.sk-toggleable__control:checked~label.sk-toggleable__label-arrow:before {content: \"▾\";}#sk-container-id-3 div.sk-estimator input.sk-toggleable__control:checked~label.sk-toggleable__label {background-color: #d4ebff;}#sk-container-id-3 div.sk-label input.sk-toggleable__control:checked~label.sk-toggleable__label {background-color: #d4ebff;}#sk-container-id-3 input.sk-hidden--visually {border: 0;clip: rect(1px 1px 1px 1px);clip: rect(1px, 1px, 1px, 1px);height: 1px;margin: -1px;overflow: hidden;padding: 0;position: absolute;width: 1px;}#sk-container-id-3 div.sk-estimator {font-family: monospace;background-color: #f0f8ff;border: 1px dotted black;border-radius: 0.25em;box-sizing: border-box;margin-bottom: 0.5em;}#sk-container-id-3 div.sk-estimator:hover {background-color: #d4ebff;}#sk-container-id-3 div.sk-parallel-item::after {content: \"\";width: 100%;border-bottom: 1px solid gray;flex-grow: 1;}#sk-container-id-3 div.sk-label:hover label.sk-toggleable__label {background-color: #d4ebff;}#sk-container-id-3 div.sk-serial::before {content: \"\";position: absolute;border-left: 1px solid gray;box-sizing: border-box;top: 0;bottom: 0;left: 50%;z-index: 0;}#sk-container-id-3 div.sk-serial {display: flex;flex-direction: column;align-items: center;background-color: white;padding-right: 0.2em;padding-left: 0.2em;position: relative;}#sk-container-id-3 div.sk-item {position: relative;z-index: 1;}#sk-container-id-3 div.sk-parallel {display: flex;align-items: stretch;justify-content: center;background-color: white;position: relative;}#sk-container-id-3 div.sk-item::before, #sk-container-id-3 div.sk-parallel-item::before {content: \"\";position: absolute;border-left: 1px solid gray;box-sizing: border-box;top: 0;bottom: 0;left: 50%;z-index: -1;}#sk-container-id-3 div.sk-parallel-item {display: flex;flex-direction: column;z-index: 1;position: relative;background-color: white;}#sk-container-id-3 div.sk-parallel-item:first-child::after {align-self: flex-end;width: 50%;}#sk-container-id-3 div.sk-parallel-item:last-child::after {align-self: flex-start;width: 50%;}#sk-container-id-3 div.sk-parallel-item:only-child::after {width: 0;}#sk-container-id-3 div.sk-dashed-wrapped {border: 1px dashed gray;margin: 0 0.4em 0.5em 0.4em;box-sizing: border-box;padding-bottom: 0.4em;background-color: white;}#sk-container-id-3 div.sk-label label {font-family: monospace;font-weight: bold;display: inline-block;line-height: 1.2em;}#sk-container-id-3 div.sk-label-container {text-align: center;}#sk-container-id-3 div.sk-container {/* jupyter's `normalize.less` sets `[hidden] { display: none; }` but bootstrap.min.css set `[hidden] { display: none !important; }` so we also need the `!important` here to be able to override the default hidden behavior on the sphinx rendered scikit-learn.org. See: https://github.com/scikit-learn/scikit-learn/issues/21755 */display: inline-block !important;position: relative;}#sk-container-id-3 div.sk-text-repr-fallback {display: none;}</style><div id=\"sk-container-id-3\" class=\"sk-top-container\"><div class=\"sk-text-repr-fallback\"><pre>RandomizedSearchCV(cv=10, estimator=RandomForestClassifier(), n_iter=100,\n",
       "                   param_distributions={&#x27;max_depth&#x27;: [2],\n",
       "                                        &#x27;n_estimators&#x27;: &lt;scipy.stats._distn_infrastructure.rv_discrete_frozen object at 0x00000219AD07BF10&gt;},\n",
       "                   random_state=42, scoring=&#x27;accuracy&#x27;)</pre><b>In a Jupyter environment, please rerun this cell to show the HTML representation or trust the notebook. <br />On GitHub, the HTML representation is unable to render, please try loading this page with nbviewer.org.</b></div><div class=\"sk-container\" hidden><div class=\"sk-item sk-dashed-wrapped\"><div class=\"sk-label-container\"><div class=\"sk-label sk-toggleable\"><input class=\"sk-toggleable__control sk-hidden--visually\" id=\"sk-estimator-id-5\" type=\"checkbox\" ><label for=\"sk-estimator-id-5\" class=\"sk-toggleable__label sk-toggleable__label-arrow\">RandomizedSearchCV</label><div class=\"sk-toggleable__content\"><pre>RandomizedSearchCV(cv=10, estimator=RandomForestClassifier(), n_iter=100,\n",
       "                   param_distributions={&#x27;max_depth&#x27;: [2],\n",
       "                                        &#x27;n_estimators&#x27;: &lt;scipy.stats._distn_infrastructure.rv_discrete_frozen object at 0x00000219AD07BF10&gt;},\n",
       "                   random_state=42, scoring=&#x27;accuracy&#x27;)</pre></div></div></div><div class=\"sk-parallel\"><div class=\"sk-parallel-item\"><div class=\"sk-item\"><div class=\"sk-label-container\"><div class=\"sk-label sk-toggleable\"><input class=\"sk-toggleable__control sk-hidden--visually\" id=\"sk-estimator-id-6\" type=\"checkbox\" ><label for=\"sk-estimator-id-6\" class=\"sk-toggleable__label sk-toggleable__label-arrow\">estimator: RandomForestClassifier</label><div class=\"sk-toggleable__content\"><pre>RandomForestClassifier()</pre></div></div></div><div class=\"sk-serial\"><div class=\"sk-item\"><div class=\"sk-estimator sk-toggleable\"><input class=\"sk-toggleable__control sk-hidden--visually\" id=\"sk-estimator-id-7\" type=\"checkbox\" ><label for=\"sk-estimator-id-7\" class=\"sk-toggleable__label sk-toggleable__label-arrow\">RandomForestClassifier</label><div class=\"sk-toggleable__content\"><pre>RandomForestClassifier()</pre></div></div></div></div></div></div></div></div></div></div>"
      ],
      "text/plain": [
       "RandomizedSearchCV(cv=10, estimator=RandomForestClassifier(), n_iter=100,\n",
       "                   param_distributions={'max_depth': [2],\n",
       "                                        'n_estimators': <scipy.stats._distn_infrastructure.rv_discrete_frozen object at 0x00000219AD07BF10>},\n",
       "                   random_state=42, scoring='accuracy')"
      ]
     },
     "execution_count": 23,
     "metadata": {},
     "output_type": "execute_result"
    }
   ],
   "source": [
    "# experiments with parameters \n",
    "param_distribs = {\n",
    "    'n_estimators': randint(low=2, high=100), # default=100\n",
    "    'max_depth' : [2] # set to 2\n",
    "    }\n",
    "\n",
    "rnd_search = RandomizedSearchCV(forest, param_distributions=param_distribs,\n",
    "                                n_iter=100, cv=10, scoring='accuracy', random_state=42)\n",
    "rnd_search.fit(X_train, y_train)"
   ]
  },
  {
   "cell_type": "code",
   "execution_count": 24,
   "id": "f2215563",
   "metadata": {},
   "outputs": [
    {
     "data": {
      "text/html": [
       "<div>\n",
       "<style scoped>\n",
       "    .dataframe tbody tr th:only-of-type {\n",
       "        vertical-align: middle;\n",
       "    }\n",
       "\n",
       "    .dataframe tbody tr th {\n",
       "        vertical-align: top;\n",
       "    }\n",
       "\n",
       "    .dataframe thead th {\n",
       "        text-align: right;\n",
       "    }\n",
       "</style>\n",
       "<table border=\"1\" class=\"dataframe\">\n",
       "  <thead>\n",
       "    <tr style=\"text-align: right;\">\n",
       "      <th></th>\n",
       "      <th>params</th>\n",
       "      <th>mean_test_score</th>\n",
       "      <th>std_test_score</th>\n",
       "      <th>rank_test_score</th>\n",
       "    </tr>\n",
       "  </thead>\n",
       "  <tbody>\n",
       "    <tr>\n",
       "      <th>23</th>\n",
       "      <td>{'max_depth': 2, 'n_estimators': 34}</td>\n",
       "      <td>0.950</td>\n",
       "      <td>0.100000</td>\n",
       "      <td>1</td>\n",
       "    </tr>\n",
       "    <tr>\n",
       "      <th>82</th>\n",
       "      <td>{'max_depth': 2, 'n_estimators': 75}</td>\n",
       "      <td>0.950</td>\n",
       "      <td>0.100000</td>\n",
       "      <td>1</td>\n",
       "    </tr>\n",
       "    <tr>\n",
       "      <th>84</th>\n",
       "      <td>{'max_depth': 2, 'n_estimators': 15}</td>\n",
       "      <td>0.950</td>\n",
       "      <td>0.100000</td>\n",
       "      <td>1</td>\n",
       "    </tr>\n",
       "    <tr>\n",
       "      <th>11</th>\n",
       "      <td>{'max_depth': 2, 'n_estimators': 25}</td>\n",
       "      <td>0.950</td>\n",
       "      <td>0.100000</td>\n",
       "      <td>1</td>\n",
       "    </tr>\n",
       "    <tr>\n",
       "      <th>92</th>\n",
       "      <td>{'max_depth': 2, 'n_estimators': 41}</td>\n",
       "      <td>0.950</td>\n",
       "      <td>0.100000</td>\n",
       "      <td>1</td>\n",
       "    </tr>\n",
       "    <tr>\n",
       "      <th>...</th>\n",
       "      <td>...</td>\n",
       "      <td>...</td>\n",
       "      <td>...</td>\n",
       "      <td>...</td>\n",
       "    </tr>\n",
       "    <tr>\n",
       "      <th>72</th>\n",
       "      <td>{'max_depth': 2, 'n_estimators': 7}</td>\n",
       "      <td>0.850</td>\n",
       "      <td>0.200000</td>\n",
       "      <td>96</td>\n",
       "    </tr>\n",
       "    <tr>\n",
       "      <th>15</th>\n",
       "      <td>{'max_depth': 2, 'n_estimators': 3}</td>\n",
       "      <td>0.850</td>\n",
       "      <td>0.165831</td>\n",
       "      <td>96</td>\n",
       "    </tr>\n",
       "    <tr>\n",
       "      <th>70</th>\n",
       "      <td>{'max_depth': 2, 'n_estimators': 5}</td>\n",
       "      <td>0.850</td>\n",
       "      <td>0.200000</td>\n",
       "      <td>96</td>\n",
       "    </tr>\n",
       "    <tr>\n",
       "      <th>57</th>\n",
       "      <td>{'max_depth': 2, 'n_estimators': 3}</td>\n",
       "      <td>0.850</td>\n",
       "      <td>0.165831</td>\n",
       "      <td>96</td>\n",
       "    </tr>\n",
       "    <tr>\n",
       "      <th>71</th>\n",
       "      <td>{'max_depth': 2, 'n_estimators': 3}</td>\n",
       "      <td>0.775</td>\n",
       "      <td>0.207666</td>\n",
       "      <td>100</td>\n",
       "    </tr>\n",
       "  </tbody>\n",
       "</table>\n",
       "<p>100 rows × 4 columns</p>\n",
       "</div>"
      ],
      "text/plain": [
       "                                  params  mean_test_score  std_test_score  \\\n",
       "23  {'max_depth': 2, 'n_estimators': 34}            0.950        0.100000   \n",
       "82  {'max_depth': 2, 'n_estimators': 75}            0.950        0.100000   \n",
       "84  {'max_depth': 2, 'n_estimators': 15}            0.950        0.100000   \n",
       "11  {'max_depth': 2, 'n_estimators': 25}            0.950        0.100000   \n",
       "92  {'max_depth': 2, 'n_estimators': 41}            0.950        0.100000   \n",
       "..                                   ...              ...             ...   \n",
       "72   {'max_depth': 2, 'n_estimators': 7}            0.850        0.200000   \n",
       "15   {'max_depth': 2, 'n_estimators': 3}            0.850        0.165831   \n",
       "70   {'max_depth': 2, 'n_estimators': 5}            0.850        0.200000   \n",
       "57   {'max_depth': 2, 'n_estimators': 3}            0.850        0.165831   \n",
       "71   {'max_depth': 2, 'n_estimators': 3}            0.775        0.207666   \n",
       "\n",
       "    rank_test_score  \n",
       "23                1  \n",
       "82                1  \n",
       "84                1  \n",
       "11                1  \n",
       "92                1  \n",
       "..              ...  \n",
       "72               96  \n",
       "15               96  \n",
       "70               96  \n",
       "57               96  \n",
       "71              100  \n",
       "\n",
       "[100 rows x 4 columns]"
      ]
     },
     "execution_count": 24,
     "metadata": {},
     "output_type": "execute_result"
    }
   ],
   "source": [
    "# result as a dataframe\n",
    "result = pd.DataFrame(rnd_search.cv_results_)\n",
    "result[['params', 'mean_test_score', 'std_test_score', 'rank_test_score']].sort_values('rank_test_score')"
   ]
  },
  {
   "cell_type": "code",
   "execution_count": 25,
   "id": "74f94016",
   "metadata": {},
   "outputs": [
    {
     "name": "stdout",
     "output_type": "stream",
     "text": [
      "best max_depth: 2\n",
      "best n_estimators: 34\n"
     ]
    }
   ],
   "source": [
    "# find best params\n",
    "best_params = result.sort_values('rank_test_score')[['params']].iloc[0]['params']\n",
    "for k, v in best_params.items():\n",
    "    print(f\"best {k}: {best_params[k]}\")"
   ]
  },
  {
   "cell_type": "code",
   "execution_count": 28,
   "id": "dff638a7",
   "metadata": {},
   "outputs": [
    {
     "name": "stdout",
     "output_type": "stream",
     "text": [
      "Accuracy test with train size 100 and test size 44\n",
      "Accuracy on the train set:  0.96\n",
      "Accuracy on the set   set:  1.0\n",
      "Accuracy test with train size 70 and test size 74\n",
      "Accuracy on the train set:  1.0\n",
      "Accuracy on the set   set:  1.0\n",
      "Accuracy test with train size 40 and test size 104\n",
      "Accuracy on the train set:  0.925\n",
      "Accuracy on the set   set:  0.9134615384615384\n"
     ]
    }
   ],
   "source": [
    "# try three different train/test split\n",
    "test_sizes = [44, 74, 104]\n",
    "forest = RandomForestClassifier(max_depth=best_params['max_depth'], n_estimators=best_params['n_estimators'])\n",
    "for test_size in test_sizes:\n",
    "    X_train, X_test, y_train, y_test = train_test_split(X, y, test_size=test_size, random_state=42)\n",
    "    print(f\"Accuracy test with train size {X.shape[0]-test_size} and test size {test_size}\")\n",
    "    accuracy_report(forest, X_train, X_test, y_train, y_test)"
   ]
  },
  {
   "cell_type": "markdown",
   "id": "5a440d3c",
   "metadata": {},
   "source": [
    "### 6. Discussion (During the lab)"
   ]
  },
  {
   "cell_type": "markdown",
   "id": "4006fb6d",
   "metadata": {},
   "source": [
    "1. Make conclusions about our experiments with tuning parameters of the decision trees. What was the influence of various parameters on the classifier’s performance? Hypothesise why.\n",
    "    - With only max depth of 3, it brings 100% accuracy on the face dataset. To prevent overfitting, we restricted this as maximum of 2. Depth 2 showed highest accuracy, of course. \n",
    "    - Regarding minimum impurity decrease, 0.0 (the default value) and 0.1 showed same performance, but accuracy decreased when we set to be higher than or same as 0.2. The result is quite reasonable because the higher the minimum impurity decrease is, the less sensitive the tree would be. \n",
    "    - Minimum samples of leaf and minimum samples of splits did not show any different on the accuracy. It seems that it is because the dataset is relatively small and less diverse.\n",
    "    - RandomForest showed better performance in general as expected. This is because the forest uses  several different trees (n_estimators) and this makes the forest prediction more stable than a stochastic tree. \n",
    "\n",
    "2. Analyse Tree 1, Tree 2 and Tree 3 from the point of view of the problem of classifier overfitting. Do you notice the effects of over-fitting? How? Note your conclusions in the Jupyter notebook. (Note: to make conclusions about overfitting, you must compare accuracies of your three decision trees on training and on testing data sets.)\n",
    "    - Results from the experiment with different train/test sizes are below table.\n",
    "\n",
    "| Train set size | Test set size | Accuracy on train set | Accuracy on test set |\n",
    "| -------------- | ------------- | --------------------- | -------------------- |\n",
    "| 100            | 44            | 0.96                  | 1.0                  |\n",
    "| 70             | 74            | 1.0                   | 1.0                  |\n",
    "| 40             | 104           | 0.925                 | 0.9134615384         |\n",
    "\n",
    "\n",
    "    - It is known that there are more possibilities to have overfitted estimator when we have too many training examples in general, but it is not observed in our case. (probably because it is quite simple datasets to learn) \n",
    "    - One notable fact is that with smallest train set size (40) the accuracy decreased. It seems that this is because 40 is too small for the tree to learn enough. \n"
   ]
  }
 ],
 "metadata": {
  "kernelspec": {
   "display_name": "Python 3 (ipykernel)",
   "language": "python",
   "name": "python3"
  },
  "language_info": {
   "codemirror_mode": {
    "name": "ipython",
    "version": 3
   },
   "file_extension": ".py",
   "mimetype": "text/x-python",
   "name": "python",
   "nbconvert_exporter": "python",
   "pygments_lexer": "ipython3",
   "version": "3.10.4"
  }
 },
 "nbformat": 4,
 "nbformat_minor": 5
}
